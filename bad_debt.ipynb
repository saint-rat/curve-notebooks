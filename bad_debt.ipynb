{
 "cells": [
  {
   "cell_type": "markdown",
   "metadata": {},
   "source": [
    "### Finding Bad Debt"
   ]
  },
  {
   "cell_type": "code",
   "execution_count": 1,
   "metadata": {},
   "outputs": [],
   "source": [
    "# easiest way to get an RPC URL is to use Alchemy\n",
    "ETHEREUM_HTTP_RPC = \"https://eth-mainnet.g.alchemy.com/v2/...\"\n",
    "ARBITRUM_HTTP_RPC = \"https://arb-mainnet.g.alchemy.com/v2/...\"\n",
    "\n",
    "ETHEREUM_ONEWAYLENDINGFACTORY_ADDR = '0xeA6876DDE9e3467564acBeE1Ed5bac88783205E0'\n",
    "ARBITRUM_ONEWAYLENDINGFACTORY_ADDR = '0xcaEC110C784c9DF37240a8Ce096D352A75922DeA'\n",
    "\n",
    "NETWORKS = ['ethereum', 'arbitrum']"
   ]
  },
  {
   "cell_type": "code",
   "execution_count": 2,
   "metadata": {},
   "outputs": [],
   "source": [
    "from web3 import Web3\n",
    "\n",
    "def read_abi(filename):\n",
    "    with open(filename, 'r') as file:\n",
    "        return file.read()\n",
    "\n",
    "def get_w3_and_factory(network):\n",
    "    if network == 'ethereum':\n",
    "        w3 = Web3(Web3.HTTPProvider(ETHEREUM_HTTP_RPC))\n",
    "        factory = w3.eth.contract(address=ETHEREUM_ONEWAYLENDINGFACTORY_ADDR, abi=read_abi('abis/OneWayLendingFactory.abi'))\n",
    "    elif network == 'arbitrum':\n",
    "        w3 = Web3(Web3.HTTPProvider(ARBITRUM_HTTP_RPC))\n",
    "        factory = w3.eth.contract(address=ARBITRUM_ONEWAYLENDINGFACTORY_ADDR, abi=read_abi('abis/OneWayLendingFactory.abi'))\n",
    "    \n",
    "    if w3.is_connected():\n",
    "        print(f'Successfully connected to {network}.')\n",
    "        return w3, factory\n",
    "    else:\n",
    "        raise Exception(\"Failed to connect to web3.\")"
   ]
  },
  {
   "cell_type": "code",
   "execution_count": 3,
   "metadata": {},
   "outputs": [],
   "source": [
    "# read in ABIs for required contracts\n",
    "controllerAbi = read_abi('abis/controller.abi')\n",
    "llammaAbi = read_abi('abis/LLAMMA.abi')\n",
    "erc20Abi = read_abi('abis/ERC20.abi')"
   ]
  },
  {
   "cell_type": "code",
   "execution_count": 5,
   "metadata": {},
   "outputs": [
    {
     "name": "stdout",
     "output_type": "stream",
     "text": [
      "Successfully connected to ethereum.\n",
      "No Bad Debt - Network: ethereum, Market: wstETH/crvUSD - 0x1E0165DbD2019441aB7927C018701f3138114D71\n",
      "No Bad Debt - Network: ethereum, Market: WETH/crvUSD - 0xaade9230AA9161880E13a38C83400d3D1995267b\n",
      "No Bad Debt - Network: ethereum, Market: tBTC/crvUSD - 0x413FD2511BAD510947a91f5c6c79EBD8138C29Fc\n",
      "No Bad Debt - Network: ethereum, Market: CRV/crvUSD - 0xEdA215b7666936DEd834f76f3fBC6F323295110A\n",
      "No Bad Debt - Network: ethereum, Market: crvUSD/CRV - 0xC510d73Ad34BeDECa8978B6914461aA7b50CF3Fc\n",
      "No Bad Debt - Network: ethereum, Market: crvUSD/WETH - 0xa5D9137d2A1Ee912469d911A8E74B6c77503bac8\n",
      "No Bad Debt - Network: ethereum, Market: crvUSD/tBTC - 0xe438658874b0acf4D81c24172E137F0eE00621b8\n",
      "No Bad Debt - Network: ethereum, Market: sUSDe/crvUSD - 0x98Fc283d6636f6DCFf5a817A00Ac69A3ADd96907\n",
      "No Bad Debt - Network: ethereum, Market: UwU/crvUSD - 0x09dBDEB3b301A4753589Ac6dF8A178C7716ce16B\n",
      "No Bad Debt - Network: ethereum, Market: WBTC/crvUSD - 0xcaD85b7fe52B1939DCEebEe9bCf0b2a5Aa0cE617\n",
      "No Bad Debt - Network: ethereum, Market: pufETH/crvUSD - 0x4f87158350c296955966059C50263F711cE0817C\n",
      "Successfully connected to arbitrum.\n",
      "No Bad Debt - Network: arbitrum, Market: WETH/crvUSD - 0xB5B6f0E69c283AA32425FA18220e64283B51F0A4\n",
      "No Bad Debt - Network: arbitrum, Market: WBTC/crvUSD - 0x013be86e1cdb0f384dAF24Bd974FE75EdFfe6B68\n",
      "No Bad Debt - Network: arbitrum, Market: WBTC/crvUSD - 0x28c20590de7539C316191F413686dcF794d8898E\n",
      "No Bad Debt - Network: arbitrum, Market: gmUSDC/crvUSD - 0x5014AB37Fca7201baDEc3C0d0f28Dc7899cdC7D5\n",
      "Bad Debt Found - Amount 2485.59, Network: arbitrum, Market: CRV/crvUSD - 0x88f88e937Db48bBfe8E3091718576430704e47Ab, User: 0x2618F4c64805526a3092d41f25597CcfE4Dd8216, Collateral Total: 1607.63, Debt: 4093.22\n",
      "No Bad Debt - Network: arbitrum, Market: ARB/crvUSD - 0x76709bC0dA299Ab0234EEC51385E900922AE98f5\n",
      "Error finding market data: 0xAe659CE8f2f23649E09e92D164244AA127A7a2c7\n",
      "Bad Debt Found - Amount 4827.95, Network: arbitrum, Market: FXN/crvUSD - 0x7Adcc491f0B7f9BC12837B8F5Edf0e580d176F1f, User: 0x58D6747Df97Ef9cDAD836De1029d7EF1f62F14A2, Collateral Total: 29.14, Debt: 4857.09\n",
      "Bad Debt Found - Amount 15.34, Network: arbitrum, Market: FXN/crvUSD - 0x7Adcc491f0B7f9BC12837B8F5Edf0e580d176F1f, User: 0x99D112cc5c9FCbbFcb8C29DdcfFf3be8fb0A6eF8, Collateral Total: 0.12, Debt: 15.46\n",
      "No Bad Debt - Network: arbitrum, Market: gmUSDC/crvUSD - 0x4064Ed6Ae070F126F56c47c8a8CdD6B924668b5D\n"
     ]
    }
   ],
   "source": [
    "# search through networks to find bad debt\n",
    "for network in NETWORKS:\n",
    "    w3, factory = get_w3_and_factory(network)\n",
    "\n",
    "    i = 0\n",
    "    while(True):\n",
    "        # no way to find how many markets there are, so continue calling until end of list\n",
    "        try:\n",
    "            controllerAddr = factory.functions.controllers(i).call()\n",
    "        except:\n",
    "            break\n",
    "        controller = w3.eth.contract(address=controllerAddr, abi=controllerAbi)\n",
    "\n",
    "        i += 1\n",
    "\n",
    "        # some markets aren't properly initialize, so skip them\n",
    "        try:\n",
    "            llammaAddr = controller.functions.amm().call()\n",
    "            llamma = w3.eth.contract(address=llammaAddr, abi=llammaAbi)\n",
    "            price = llamma.functions.price_oracle().call()\n",
    "        except:\n",
    "            print(f'Error finding market data: {controllerAddr}')\n",
    "            continue\n",
    "\n",
    "        # get collateral and debt token info\n",
    "        collateralTokenContract = w3.eth.contract(address=controller.functions.collateral_token().call(), abi=erc20Abi)\n",
    "        collateralToken = collateralTokenContract.functions.symbol().call()\n",
    "        collateralDecimals = collateralTokenContract.functions.decimals().call()\n",
    "        debtTokenContract = w3.eth.contract(address=controller.functions.borrowed_token().call(), abi=erc20Abi)\n",
    "        debtToken = debtTokenContract.functions.symbol().call()\n",
    "        debtDecimals = debtTokenContract.functions.decimals().call()\n",
    "\n",
    "        # find if there are any users that can be liquidated.  If there are, check them for bad debt\n",
    "        # usersToLiq is a list of users with loans that can be liquidated.  If the length is 0, there are no users to liquidate\n",
    "        usersToLiq = controller.functions.users_to_liquidate().call()\n",
    "        badDebtFlag = False\n",
    "        if len(usersToLiq) > 0:\n",
    "            for user in usersToLiq:\n",
    "                # each user is in the form [userAddr, collateralAmount, stablecoinAmount, debt, health]\n",
    "                collateralTotal = (user[1]/10**collateralDecimals)*(price/10**18) + user[2]/10**debtDecimals\n",
    "                collateralTotal = round(collateralTotal, 2)\n",
    "                debt = round(user[3]/10**debtDecimals, 2)\n",
    "                badDebt = round(debt - collateralTotal, 2)\n",
    "                if badDebt > 0:\n",
    "                    badDebtFlag = True\n",
    "                    print(f'Bad Debt Found - Amount {badDebt}, Network: {network}, Market: {collateralToken}/{debtToken} - {controllerAddr}, User: {user[0]}, Collateral Total: {collateralTotal}, Debt: {debt}')\n",
    "        if not badDebtFlag:\n",
    "            print(f'No Bad Debt - Network: {network}, Market: {collateralToken}/{debtToken} - {controllerAddr}')"
   ]
  }
 ],
 "metadata": {
  "kernelspec": {
   "display_name": "curve-notebooks-AfU2eyXF-py3.10",
   "language": "python",
   "name": "python3"
  },
  "language_info": {
   "codemirror_mode": {
    "name": "ipython",
    "version": 3
   },
   "file_extension": ".py",
   "mimetype": "text/x-python",
   "name": "python",
   "nbconvert_exporter": "python",
   "pygments_lexer": "ipython3",
   "version": "3.10.12"
  }
 },
 "nbformat": 4,
 "nbformat_minor": 2
}
