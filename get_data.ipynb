{
 "cells": [
  {
   "cell_type": "markdown",
   "metadata": {},
   "source": [
    "### Notebook to pull the latest user snapshot data for crvUSD from the subgraph\n",
    "\n",
    "Saves data as a file called **user_snapshots.csv**"
   ]
  },
  {
   "cell_type": "code",
   "execution_count": 16,
   "metadata": {},
   "outputs": [],
   "source": [
    "import pluck\n",
    "import pandas as pd\n",
    "\n",
    "# crvusd subgraph url\n",
    "subgraph_url = 'https://api.thegraph.com/subgraphs/name/convex-community/crvusd'\n",
    "\n",
    "# function to get a portion of user data\n",
    "def get_user_data(skip_snapshots=0, skip_user_states=0):\n",
    "  query = f\"\"\"\n",
    "  {{\n",
    "    snapshots(first: 1000, skip: {skip_snapshots}, where: {{userStateSnapshot: true}}) {{\n",
    "      basePrice\n",
    "      oraclePrice\n",
    "      activeBand\n",
    "      userStates (first: 1000, skip: {skip_user_states}) {{\n",
    "        collateral\n",
    "        stablecoin\n",
    "        n\n",
    "        n1\n",
    "        n2\n",
    "        debt\n",
    "        depositedCollateral\n",
    "        health\n",
    "        loss\n",
    "        lossPct\n",
    "        timestamp\n",
    "        user {{\n",
    "          id\n",
    "        }}\n",
    "      }}\n",
    "      market {{\n",
    "        id\n",
    "        collateralName\n",
    "      }}\n",
    "    }}\n",
    "  }}\n",
    "  \"\"\"\n",
    "  frame, = pluck.execute(query, column_names=\"short\", url=subgraph_url)\n",
    "  return frame\n",
    "\n",
    "# function to get all user data\n",
    "def fetch_all_user_data():\n",
    "    skip_snapshots = 0\n",
    "    snapshot_df = pd.DataFrame()\n",
    "    \n",
    "    while True:\n",
    "        skip_user_states = 0\n",
    "        \n",
    "        while True:\n",
    "            print(f\"skip snapshots: {skip_snapshots}, user states: {skip_user_states}, snapshot_df length: {snapshot_df.shape[0]}\")\n",
    "            data = get_user_data(skip_snapshots, skip_user_states)\n",
    "            if(data.shape[1] == 17) and not data.isin(snapshot_df).all().all():\n",
    "                snapshot_df = pd.concat([snapshot_df, data], ignore_index=True)\n",
    "                skip_user_states += 1000\n",
    "            elif skip_user_states == 0:\n",
    "                return snapshot_df\n",
    "            else:\n",
    "                break\n",
    "        skip_snapshots += 1000"
   ]
  },
  {
   "cell_type": "code",
   "execution_count": 18,
   "metadata": {},
   "outputs": [],
   "source": [
    "# fetch all user data\n",
    "data = fetch_all_user_data()\n",
    "\n",
    "# clean, make types correct and rename columns\n",
    "data = data.dropna()\n",
    "columns_to_int = ['activeBand', 'n', 'n1', 'n2', 'timestamp']\n",
    "columns_to_float = [\n",
    "    'basePrice', 'oraclePrice', 'collateral', 'stablecoin', 'debt',\n",
    "    'depositedCollateral', 'health', 'loss', 'lossPct'\n",
    "]\n",
    "data[columns_to_int] = data[columns_to_int].astype(int)\n",
    "data[columns_to_float] = data[columns_to_float].astype(float)\n",
    "data = data.rename(columns={'id': 'marketId', 'user.id': 'user'})\n",
    "\n",
    "# create some columns\n",
    "data['softLiq'] = data['activeBand'] >= data['n1']\n",
    "data['collateralUsd'] = data['collateral'] * data['oraclePrice']\n",
    "\n",
    "# save to csv\n",
    "data.to_csv(\"user_snapshots.csv\", index=False)"
   ]
  }
 ],
 "metadata": {
  "kernelspec": {
   "display_name": "base",
   "language": "python",
   "name": "python3"
  },
  "language_info": {
   "codemirror_mode": {
    "name": "ipython",
    "version": 3
   },
   "file_extension": ".py",
   "mimetype": "text/x-python",
   "name": "python",
   "nbconvert_exporter": "python",
   "pygments_lexer": "ipython3",
   "version": "3.10.12"
  }
 },
 "nbformat": 4,
 "nbformat_minor": 2
}
