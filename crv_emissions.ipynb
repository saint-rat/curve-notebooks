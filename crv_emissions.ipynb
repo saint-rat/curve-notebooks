{
 "cells": [
  {
   "cell_type": "markdown",
   "metadata": {},
   "source": [
    "### CRV Emission Data\n",
    "\n",
    "Simple notebook to output the rate (crv/sec) and how much CRV will be emitted each epoch (365 days)\n",
    "\n",
    "Continues adding data until rate = 0\n",
    "\n",
    "Saves data crv_data.csv"
   ]
  },
  {
   "cell_type": "code",
   "execution_count": 22,
   "metadata": {},
   "outputs": [],
   "source": [
    "import csv\n",
    "\n",
    "YEAR = 86400 * 365\n",
    "INITIAL_RATE = 274815283 * 10**18 // YEAR\n",
    "RATE_REDUCTION_COEFFICIENT = 1189207115002721024\n",
    "\n",
    "rate = INITIAL_RATE\n",
    "sum = rate * YEAR\n",
    "epoch = 0\n",
    "emissionData = [['year_epoch', 'yearly_emissions', 'rate'], [epoch, rate*YEAR, rate]]\n",
    "\n",
    "while (rate != 0):\n",
    "    epoch+=1\n",
    "    rate = rate * 10**18 // RATE_REDUCTION_COEFFICIENT\n",
    "    sum += rate * YEAR\n",
    "    emissionData.append([epoch, rate*YEAR, rate])"
   ]
  },
  {
   "cell_type": "code",
   "execution_count": 23,
   "metadata": {},
   "outputs": [],
   "source": [
    "with open(\"crv_data.csv\", 'w', newline='') as file:\n",
    "    writer = csv.writer(file)\n",
    "    writer.writerows(emissionData)"
   ]
  }
 ],
 "metadata": {
  "kernelspec": {
   "display_name": "curve-notebooks-AfU2eyXF-py3.10",
   "language": "python",
   "name": "python3"
  },
  "language_info": {
   "codemirror_mode": {
    "name": "ipython",
    "version": 3
   },
   "file_extension": ".py",
   "mimetype": "text/x-python",
   "name": "python",
   "nbconvert_exporter": "python",
   "pygments_lexer": "ipython3",
   "version": "3.10.12"
  }
 },
 "nbformat": 4,
 "nbformat_minor": 2
}
